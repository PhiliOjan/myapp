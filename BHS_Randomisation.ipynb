{
  "nbformat": 4,
  "nbformat_minor": 0,
  "metadata": {
    "colab": {
      "provenance": [],
      "authorship_tag": "ABX9TyMWCCEVWm5hoI4T005fFrz4",
      "include_colab_link": true
    },
    "kernelspec": {
      "name": "python3",
      "display_name": "Python 3"
    },
    "language_info": {
      "name": "python"
    }
  },
  "cells": [
    {
      "cell_type": "markdown",
      "metadata": {
        "id": "view-in-github",
        "colab_type": "text"
      },
      "source": [
        "<a href=\"https://colab.research.google.com/github/PhiliOjan/myapp/blob/main/BHS_Randomisation.ipynb\" target=\"_parent\"><img src=\"https://colab.research.google.com/assets/colab-badge.svg\" alt=\"Open In Colab\"/></a>"
      ]
    },
    {
      "cell_type": "code",
      "execution_count": 1,
      "metadata": {
        "colab": {
          "base_uri": "https://localhost:8080/"
        },
        "id": "nsbzy_gqkRoz",
        "outputId": "beff8fb2-b188-43db-97d6-9be27bdea721"
      },
      "outputs": [
        {
          "output_type": "stream",
          "name": "stdout",
          "text": [
            "Randomized selection complete! Output saved at: /content/randomized_households_Kitagwenda.csv\n",
            "Randomized selection complete! Output saved at: /content/randomized_households_Kitagwenda.csv\n"
          ]
        },
        {
          "output_type": "stream",
          "name": "stderr",
          "text": [
            "<ipython-input-1-ec5ffd7e05a8>:42: DeprecationWarning: DataFrameGroupBy.apply operated on the grouping columns. This behavior is deprecated, and in a future version of pandas the grouping columns will be excluded from the operation. Either pass `include_groups=False` to exclude the groupings or explicitly select the grouping columns after groupby to silence this warning.\n",
            "  selected_households = df.groupby(\"village\").apply(\n",
            "<ipython-input-1-ec5ffd7e05a8>:86: DeprecationWarning: DataFrameGroupBy.apply operated on the grouping columns. This behavior is deprecated, and in a future version of pandas the grouping columns will be excluded from the operation. Either pass `include_groups=False` to exclude the groupings or explicitly select the grouping columns after groupby to silence this warning.\n",
            "  selected_households = df.groupby(\"village\").apply(\n"
          ]
        }
      ],
      "source": [
        "import pandas as pd\n",
        "import numpy as np\n",
        "import os\n",
        "import pandas as pd\n",
        "import numpy as np\n",
        "import os\n",
        "\n",
        "# Load dataset (Replace 'your_file.csv' with actual filename)\n",
        "df = pd.read_csv(\"/content/RTV_RW_Household_Mapping_Data_-6018782354459778384.csv\")\n",
        "\n",
        "# Define age and gender criteria\n",
        "def classify_household(row):\n",
        "    if row[\"Household_Head_Age\"] >= 31 and row[\"Household_Head_Gender\"].lower() == \"male\":\n",
        "        return \"Men-headed\"\n",
        "    elif row[\"Household_Head_Age\"] >= 31 and row[\"Household_Head_Gender\"].lower() == \"female\":\n",
        "        return \"Women-headed\"\n",
        "    elif row[\"Household_Head_Age\"] < 31:\n",
        "        return \"Youth-headed\"\n",
        "    return \"Unknown\"\n",
        "\n",
        "# Apply classification\n",
        "df[\"Head_Type\"] = df.apply(classify_household, axis=1)\n",
        "\n",
        "def random_sample(group, n_men, n_youth, n_women):\n",
        "    men = group[group['Head_Type'] == 'Men-headed'].sample(n=min(n_men, len(group[group['Head_Type'] == 'Men-headed'])), random_state=42)\n",
        "    youth = group[group['Head_Type'] == 'Youth-headed'].sample(n=min(n_youth, len(group[group['Head_Type'] == 'Youth-headed'])), random_state=42)\n",
        "    women = group[group['Head_Type'] == 'Women-headed'].sample(n=min(n_women, len(group[group['Head_Type'] == 'Women-headed'])), random_state=42)\n",
        "    target = pd.concat([men, youth, women])\n",
        "    remaining = group.drop(target.index)\n",
        "\n",
        "    # Ensure reserves match target count\n",
        "    men_reserve = remaining[remaining['Head_Type'] == 'Men-headed'].sample(n=min(len(men), len(remaining[remaining['Head_Type'] == 'Men-headed'])), random_state=42)\n",
        "    youth_reserve = remaining[remaining['Head_Type'] == 'Youth-headed'].sample(n=min(len(youth), len(remaining[remaining['Head_Type'] == 'Youth-headed'])), random_state=42)\n",
        "    women_reserve = remaining[remaining['Head_Type'] == 'Women-headed'].sample(n=min(len(women), len(remaining[remaining['Head_Type'] == 'Women-headed'])), random_state=42)\n",
        "    reserve = pd.concat([men_reserve, youth_reserve, women_reserve])\n",
        "\n",
        "    target[\"Selection_Type\"] = \"Target\"\n",
        "    reserve[\"Selection_Type\"] = \"Reserve\"\n",
        "    return pd.concat([target, reserve])\n",
        "\n",
        "# Group by village and apply sampling\n",
        "selected_households = df.groupby(\"village\").apply(\n",
        "    lambda g: random_sample(\n",
        "        g,\n",
        "        n_men=18 if len(g) >= 100 else 14,\n",
        "        n_youth=6 if len(g) >= 100 else 5,\n",
        "        n_women=6 if len(g) >= 100 else 5,\n",
        "    )\n",
        ").reset_index(drop=True)\n",
        "\n",
        "# Save file in the same directory as the script\n",
        "output_path = os.path.join(os.getcwd(), \"randomized_households_Kitagwenda.csv\")\n",
        "selected_households.to_csv(output_path, index=False)\n",
        "\n",
        "print(f\"Randomized selection complete! Output saved at: {output_path}\")\n",
        "def classify_household(row):\n",
        "    if row[\"Household_Head_Age\"] >= 31 and row[\"Household_Head_Gender\"].lower() == \"male\":\n",
        "        return \"Men-headed\"\n",
        "    elif row[\"Household_Head_Age\"] >= 31 and row[\"Household_Head_Gender\"].lower() == \"female\":\n",
        "        return \"Women-headed\"\n",
        "    elif row[\"Household_Head_Age\"] < 31:\n",
        "        return \"Youth-headed\"\n",
        "    return \"Unknown\"\n",
        "\n",
        "# Apply classification\n",
        "df[\"Head_Type\"] = df.apply(classify_household, axis=1)\n",
        "\n",
        "def random_sample(group, n_men, n_youth, n_women):\n",
        "    men = group[group['Head_Type'] == 'Men-headed'].sample(n=min(n_men, len(group[group['Head_Type'] == 'Men-headed'])), random_state=42)\n",
        "    youth = group[group['Head_Type'] == 'Youth-headed'].sample(n=min(n_youth, len(group[group['Head_Type'] == 'Youth-headed'])), random_state=42)\n",
        "    women = group[group['Head_Type'] == 'Women-headed'].sample(n=min(n_women, len(group[group['Head_Type'] == 'Women-headed'])), random_state=42)\n",
        "    target = pd.concat([men, youth, women])\n",
        "    remaining = group.drop(target.index)\n",
        "\n",
        "    # Ensure reserves match target count\n",
        "    men_reserve = remaining[remaining['Head_Type'] == 'Men-headed'].sample(n=min(len(men), len(remaining[remaining['Head_Type'] == 'Men-headed'])), random_state=42)\n",
        "    youth_reserve = remaining[remaining['Head_Type'] == 'Youth-headed'].sample(n=min(len(youth), len(remaining[remaining['Head_Type'] == 'Youth-headed'])), random_state=42)\n",
        "    women_reserve = remaining[remaining['Head_Type'] == 'Women-headed'].sample(n=min(len(women), len(remaining[remaining['Head_Type'] == 'Women-headed'])), random_state=42)\n",
        "    reserve = pd.concat([men_reserve, youth_reserve, women_reserve])\n",
        "\n",
        "    target[\"Selection_Type\"] = \"Target\"\n",
        "    reserve[\"Selection_Type\"] = \"Reserve\"\n",
        "    return pd.concat([target, reserve])\n",
        "\n",
        "# Group by village and apply sampling\n",
        "selected_households = df.groupby(\"village\").apply(\n",
        "    lambda g: random_sample(\n",
        "        g,\n",
        "        n_men=18 if len(g) >= 100 else 14,\n",
        "        n_youth=6 if len(g) >= 100 else 5,\n",
        "        n_women=6 if len(g) >= 100 else 5,\n",
        "    )\n",
        ").reset_index(drop=True)\n",
        "\n",
        "# Save file in the same directory as the script\n",
        "output_path = os.path.join(os.getcwd(), \"randomized_households_Kitagwenda.csv\")\n",
        "selected_households.to_csv(output_path, index=False)\n",
        "\n",
        "print(f\"Randomized selection complete! Output saved at: {output_path}\")\n"
      ]
    }
  ]
}